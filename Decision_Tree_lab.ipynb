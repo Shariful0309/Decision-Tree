{
  "nbformat": 4,
  "nbformat_minor": 0,
  "metadata": {
    "colab": {
      "provenance": []
    },
    "kernelspec": {
      "name": "python3",
      "display_name": "Python 3"
    },
    "language_info": {
      "name": "python"
    }
  },
  "cells": [
    {
      "cell_type": "code",
      "execution_count": null,
      "metadata": {
        "colab": {
          "base_uri": "https://localhost:8080/"
        },
        "id": "KmPw89tmO9B5",
        "outputId": "3479ea8c-3f5e-45b5-e72c-1d6cdedc503f"
      },
      "outputs": [
        {
          "output_type": "stream",
          "name": "stdout",
          "text": [
            "Looking in indexes: https://pypi.org/simple, https://us-python.pkg.dev/colab-wheels/public/simple/\n",
            "Collecting pyspark\n",
            "  Downloading pyspark-3.3.1.tar.gz (281.4 MB)\n",
            "\u001b[K     |████████████████████████████████| 281.4 MB 41 kB/s \n",
            "\u001b[?25hCollecting py4j\n",
            "  Downloading py4j-0.10.9.7-py2.py3-none-any.whl (200 kB)\n",
            "\u001b[K     |████████████████████████████████| 200 kB 49.6 MB/s \n",
            "\u001b[?25h  Downloading py4j-0.10.9.5-py2.py3-none-any.whl (199 kB)\n",
            "\u001b[K     |████████████████████████████████| 199 kB 10.4 MB/s \n",
            "\u001b[?25hBuilding wheels for collected packages: pyspark\n",
            "  Building wheel for pyspark (setup.py) ... \u001b[?25l\u001b[?25hdone\n",
            "  Created wheel for pyspark: filename=pyspark-3.3.1-py2.py3-none-any.whl size=281845512 sha256=691e461293c5320ad54924619cbf096045b8c70f4af45f8949f42c27bd677ae4\n",
            "  Stored in directory: /root/.cache/pip/wheels/43/dc/11/ec201cd671da62fa9c5cc77078235e40722170ceba231d7598\n",
            "Successfully built pyspark\n",
            "Installing collected packages: py4j, pyspark\n",
            "Successfully installed py4j-0.10.9.5 pyspark-3.3.1\n"
          ]
        }
      ],
      "source": [
        "!pip install pyspark py4j"
      ]
    },
    {
      "cell_type": "code",
      "source": [
        "import pyspark"
      ],
      "metadata": {
        "id": "t7bO0igbQP5h"
      },
      "execution_count": null,
      "outputs": []
    },
    {
      "cell_type": "code",
      "source": [
        "from pyspark.sql import SparkSession\n",
        "from pyspark.ml.stat import Correlation\n",
        "import pyspark.sql.functions as F"
      ],
      "metadata": {
        "id": "axgzVStNQS7p"
      },
      "execution_count": null,
      "outputs": []
    },
    {
      "cell_type": "code",
      "source": [
        "spark = SparkSession.builder.appName(\"Decision Tree\").getOrCreate()"
      ],
      "metadata": {
        "id": "0FQHz3FDQYOB"
      },
      "execution_count": null,
      "outputs": []
    },
    {
      "cell_type": "code",
      "source": [
        "spark"
      ],
      "metadata": {
        "colab": {
          "base_uri": "https://localhost:8080/",
          "height": 219
        },
        "id": "b-osBApfQeQB",
        "outputId": "74bce817-d7e1-4514-b6bb-792baf56313f"
      },
      "execution_count": null,
      "outputs": [
        {
          "output_type": "execute_result",
          "data": {
            "text/plain": [
              "<pyspark.sql.session.SparkSession at 0x7f624cf72490>"
            ],
            "text/html": [
              "\n",
              "            <div>\n",
              "                <p><b>SparkSession - in-memory</b></p>\n",
              "                \n",
              "        <div>\n",
              "            <p><b>SparkContext</b></p>\n",
              "\n",
              "            <p><a href=\"http://2409b56c217b:4040\">Spark UI</a></p>\n",
              "\n",
              "            <dl>\n",
              "              <dt>Version</dt>\n",
              "                <dd><code>v3.3.1</code></dd>\n",
              "              <dt>Master</dt>\n",
              "                <dd><code>local[*]</code></dd>\n",
              "              <dt>AppName</dt>\n",
              "                <dd><code>Decision Tree</code></dd>\n",
              "            </dl>\n",
              "        </div>\n",
              "        \n",
              "            </div>\n",
              "        "
            ]
          },
          "metadata": {},
          "execution_count": 5
        }
      ]
    },
    {
      "cell_type": "code",
      "source": [
        "from google.colab import drive\n",
        "drive.mount('/content/drive')"
      ],
      "metadata": {
        "id": "w7jpVUZEQjMY"
      },
      "execution_count": null,
      "outputs": []
    },
    {
      "cell_type": "code",
      "source": [
        "df = spark.read.csv(\"/content/drive/MyDrive/IOT/Fish.csv\", inferSchema = True, header = True)"
      ],
      "metadata": {
        "id": "4mg3piosRDfp"
      },
      "execution_count": null,
      "outputs": []
    },
    {
      "cell_type": "code",
      "source": [],
      "metadata": {
        "id": "4toon4V3SBdh"
      },
      "execution_count": null,
      "outputs": []
    },
    {
      "cell_type": "code",
      "source": [
        "df.show()"
      ],
      "metadata": {
        "colab": {
          "base_uri": "https://localhost:8080/"
        },
        "id": "56HEL-MmSBeI",
        "outputId": "3632de37-5654-45d7-e3aa-3c4f8a042ddb"
      },
      "execution_count": null,
      "outputs": [
        {
          "output_type": "stream",
          "name": "stdout",
          "text": [
            "+-------+------+-------+-------+-------+-------+------+\n",
            "|Species|Weight|Length1|Length2|Length3| Height| Width|\n",
            "+-------+------+-------+-------+-------+-------+------+\n",
            "|  Bream| 242.0|   23.2|   25.4|   30.0|  11.52|  4.02|\n",
            "|  Bream| 290.0|   24.0|   26.3|   31.2|  12.48|4.3056|\n",
            "|  Bream| 340.0|   23.9|   26.5|   31.1|12.3778|4.6961|\n",
            "|  Bream| 363.0|   26.3|   29.0|   33.5|  12.73|4.4555|\n",
            "|  Bream| 430.0|   26.5|   29.0|   34.0| 12.444| 5.134|\n",
            "|  Bream| 450.0|   26.8|   29.7|   34.7|13.6024|4.9274|\n",
            "|  Bream| 500.0|   26.8|   29.7|   34.5|14.1795|5.2785|\n",
            "|  Bream| 390.0|   27.6|   30.0|   35.0|  12.67|  4.69|\n",
            "|  Bream| 450.0|   27.6|   30.0|   35.1|14.0049|4.8438|\n",
            "|  Bream| 500.0|   28.5|   30.7|   36.2|14.2266|4.9594|\n",
            "|  Bream| 475.0|   28.4|   31.0|   36.2|14.2628|5.1042|\n",
            "|  Bream| 500.0|   28.7|   31.0|   36.2|14.3714|4.8146|\n",
            "|  Bream| 500.0|   29.1|   31.5|   36.4|13.7592| 4.368|\n",
            "|  Bream| 340.0|   29.5|   32.0|   37.3|13.9129|5.0728|\n",
            "|  Bream| 600.0|   29.4|   32.0|   37.2|14.9544|5.1708|\n",
            "|  Bream| 600.0|   29.4|   32.0|   37.2| 15.438|  5.58|\n",
            "|  Bream| 700.0|   30.4|   33.0|   38.3|14.8604|5.2854|\n",
            "|  Bream| 700.0|   30.4|   33.0|   38.5| 14.938|5.1975|\n",
            "|  Bream| 610.0|   30.9|   33.5|   38.6| 15.633|5.1338|\n",
            "|  Bream| 650.0|   31.0|   33.5|   38.7|14.4738|5.7276|\n",
            "+-------+------+-------+-------+-------+-------+------+\n",
            "only showing top 20 rows\n",
            "\n"
          ]
        }
      ]
    },
    {
      "cell_type": "code",
      "source": [
        "df.count()"
      ],
      "metadata": {
        "colab": {
          "base_uri": "https://localhost:8080/"
        },
        "id": "nAHQGnkoSM8B",
        "outputId": "1e7d20bd-14df-48f9-ad4a-4963f651188f"
      },
      "execution_count": null,
      "outputs": [
        {
          "output_type": "execute_result",
          "data": {
            "text/plain": [
              "159"
            ]
          },
          "metadata": {},
          "execution_count": 10
        }
      ]
    },
    {
      "cell_type": "code",
      "source": [
        "len(df.columns)"
      ],
      "metadata": {
        "colab": {
          "base_uri": "https://localhost:8080/"
        },
        "id": "k1XAjeowSR25",
        "outputId": "1dc92a3f-c132-4847-9a68-a59b9c012a8b"
      },
      "execution_count": null,
      "outputs": [
        {
          "output_type": "execute_result",
          "data": {
            "text/plain": [
              "7"
            ]
          },
          "metadata": {},
          "execution_count": 11
        }
      ]
    },
    {
      "cell_type": "code",
      "source": [
        "df.columns"
      ],
      "metadata": {
        "colab": {
          "base_uri": "https://localhost:8080/"
        },
        "id": "Dvh6O0uNSToR",
        "outputId": "93a29a8e-d2a3-440a-eefc-03bcc09eb7ff"
      },
      "execution_count": null,
      "outputs": [
        {
          "output_type": "execute_result",
          "data": {
            "text/plain": [
              "['Species', 'Weight', 'Length1', 'Length2', 'Length3', 'Height', 'Width']"
            ]
          },
          "metadata": {},
          "execution_count": 12
        }
      ]
    },
    {
      "cell_type": "code",
      "source": [
        "df.printSchema()"
      ],
      "metadata": {
        "colab": {
          "base_uri": "https://localhost:8080/"
        },
        "id": "EV-AA6urSXzi",
        "outputId": "d6a4af9a-18a0-4806-ab83-b5917ca2650f"
      },
      "execution_count": null,
      "outputs": [
        {
          "output_type": "stream",
          "name": "stdout",
          "text": [
            "root\n",
            " |-- Species: string (nullable = true)\n",
            " |-- Weight: double (nullable = true)\n",
            " |-- Length1: double (nullable = true)\n",
            " |-- Length2: double (nullable = true)\n",
            " |-- Length3: double (nullable = true)\n",
            " |-- Height: double (nullable = true)\n",
            " |-- Width: double (nullable = true)\n",
            "\n"
          ]
        }
      ]
    },
    {
      "cell_type": "code",
      "source": [
        "df.describe().show()"
      ],
      "metadata": {
        "colab": {
          "base_uri": "https://localhost:8080/"
        },
        "id": "_VlvLf7iSy_x",
        "outputId": "976cde89-c3a1-48c5-caea-27a676e485c1"
      },
      "execution_count": null,
      "outputs": [
        {
          "output_type": "stream",
          "name": "stdout",
          "text": [
            "+-------+---------+------------------+-----------------+------------------+------------------+-----------------+------------------+\n",
            "|summary|  Species|            Weight|          Length1|           Length2|           Length3|           Height|             Width|\n",
            "+-------+---------+------------------+-----------------+------------------+------------------+-----------------+------------------+\n",
            "|  count|      159|               159|              159|               159|               159|              159|               159|\n",
            "|   mean|     null| 398.3264150943396|26.24716981132075|28.415723270440253|31.227044025157248|8.970993710691822| 4.417485534591194|\n",
            "| stddev|     null|357.97831655089306|9.996441210553128|10.716328098884247| 11.61024583269096|4.286207619968869|1.6858038699921665|\n",
            "|    min|    Bream|               0.0|              7.5|               8.4|               8.8|           1.7284|            1.0476|\n",
            "|    max|Whitefish|            1650.0|             59.0|              63.4|              68.0|           18.957|             8.142|\n",
            "+-------+---------+------------------+-----------------+------------------+------------------+-----------------+------------------+\n",
            "\n"
          ]
        }
      ]
    },
    {
      "cell_type": "code",
      "source": [
        "df.head(5)"
      ],
      "metadata": {
        "colab": {
          "base_uri": "https://localhost:8080/"
        },
        "id": "cljkKbZ2S_kC",
        "outputId": "4c7570bd-907b-495b-c623-d64c2fc50828"
      },
      "execution_count": null,
      "outputs": [
        {
          "output_type": "execute_result",
          "data": {
            "text/plain": [
              "[Row(Species='Bream', Weight=242.0, Length1=23.2, Length2=25.4, Length3=30.0, Height=11.52, Width=4.02),\n",
              " Row(Species='Bream', Weight=290.0, Length1=24.0, Length2=26.3, Length3=31.2, Height=12.48, Width=4.3056),\n",
              " Row(Species='Bream', Weight=340.0, Length1=23.9, Length2=26.5, Length3=31.1, Height=12.3778, Width=4.6961),\n",
              " Row(Species='Bream', Weight=363.0, Length1=26.3, Length2=29.0, Length3=33.5, Height=12.73, Width=4.4555),\n",
              " Row(Species='Bream', Weight=430.0, Length1=26.5, Length2=29.0, Length3=34.0, Height=12.444, Width=5.134)]"
            ]
          },
          "metadata": {},
          "execution_count": 15
        }
      ]
    },
    {
      "cell_type": "code",
      "source": [
        "df.printSchema()"
      ],
      "metadata": {
        "colab": {
          "base_uri": "https://localhost:8080/"
        },
        "id": "we-vSnK_TRwh",
        "outputId": "6924b205-f17e-4f43-cebc-9fee4ad55ec1"
      },
      "execution_count": null,
      "outputs": [
        {
          "output_type": "stream",
          "name": "stdout",
          "text": [
            "root\n",
            " |-- Species: string (nullable = true)\n",
            " |-- Weight: double (nullable = true)\n",
            " |-- Length1: double (nullable = true)\n",
            " |-- Length2: double (nullable = true)\n",
            " |-- Length3: double (nullable = true)\n",
            " |-- Height: double (nullable = true)\n",
            " |-- Width: double (nullable = true)\n",
            "\n"
          ]
        }
      ]
    },
    {
      "cell_type": "code",
      "source": [
        "from pyspark.ml.feature import StringIndexer"
      ],
      "metadata": {
        "id": "1JvgESPcTSy6"
      },
      "execution_count": null,
      "outputs": []
    },
    {
      "cell_type": "code",
      "source": [
        "indexer = StringIndexer(inputCol = \"Species\", outputCol = \"Species_cat\")"
      ],
      "metadata": {
        "id": "zR96lpJiTf_S"
      },
      "execution_count": null,
      "outputs": []
    },
    {
      "cell_type": "code",
      "source": [
        "indexed = indexer.fit(df).transform(df)"
      ],
      "metadata": {
        "id": "CRqiP4NcTiuS"
      },
      "execution_count": null,
      "outputs": []
    },
    {
      "cell_type": "code",
      "source": [
        "indexed.show()"
      ],
      "metadata": {
        "colab": {
          "base_uri": "https://localhost:8080/"
        },
        "id": "N0gRuCzzTm0i",
        "outputId": "0a194138-f161-4e13-ecdb-e7e0d66442cd"
      },
      "execution_count": null,
      "outputs": [
        {
          "output_type": "stream",
          "name": "stdout",
          "text": [
            "+-------+------+-------+-------+-------+-------+------+-----------+\n",
            "|Species|Weight|Length1|Length2|Length3| Height| Width|Species_cat|\n",
            "+-------+------+-------+-------+-------+-------+------+-----------+\n",
            "|  Bream| 242.0|   23.2|   25.4|   30.0|  11.52|  4.02|        1.0|\n",
            "|  Bream| 290.0|   24.0|   26.3|   31.2|  12.48|4.3056|        1.0|\n",
            "|  Bream| 340.0|   23.9|   26.5|   31.1|12.3778|4.6961|        1.0|\n",
            "|  Bream| 363.0|   26.3|   29.0|   33.5|  12.73|4.4555|        1.0|\n",
            "|  Bream| 430.0|   26.5|   29.0|   34.0| 12.444| 5.134|        1.0|\n",
            "|  Bream| 450.0|   26.8|   29.7|   34.7|13.6024|4.9274|        1.0|\n",
            "|  Bream| 500.0|   26.8|   29.7|   34.5|14.1795|5.2785|        1.0|\n",
            "|  Bream| 390.0|   27.6|   30.0|   35.0|  12.67|  4.69|        1.0|\n",
            "|  Bream| 450.0|   27.6|   30.0|   35.1|14.0049|4.8438|        1.0|\n",
            "|  Bream| 500.0|   28.5|   30.7|   36.2|14.2266|4.9594|        1.0|\n",
            "|  Bream| 475.0|   28.4|   31.0|   36.2|14.2628|5.1042|        1.0|\n",
            "|  Bream| 500.0|   28.7|   31.0|   36.2|14.3714|4.8146|        1.0|\n",
            "|  Bream| 500.0|   29.1|   31.5|   36.4|13.7592| 4.368|        1.0|\n",
            "|  Bream| 340.0|   29.5|   32.0|   37.3|13.9129|5.0728|        1.0|\n",
            "|  Bream| 600.0|   29.4|   32.0|   37.2|14.9544|5.1708|        1.0|\n",
            "|  Bream| 600.0|   29.4|   32.0|   37.2| 15.438|  5.58|        1.0|\n",
            "|  Bream| 700.0|   30.4|   33.0|   38.3|14.8604|5.2854|        1.0|\n",
            "|  Bream| 700.0|   30.4|   33.0|   38.5| 14.938|5.1975|        1.0|\n",
            "|  Bream| 610.0|   30.9|   33.5|   38.6| 15.633|5.1338|        1.0|\n",
            "|  Bream| 650.0|   31.0|   33.5|   38.7|14.4738|5.7276|        1.0|\n",
            "+-------+------+-------+-------+-------+-------+------+-----------+\n",
            "only showing top 20 rows\n",
            "\n"
          ]
        }
      ]
    },
    {
      "cell_type": "code",
      "source": [
        "from pyspark.ml.linalg import Vector\n",
        "from pyspark.ml.feature import VectorAssembler"
      ],
      "metadata": {
        "id": "6ZrAPOkATqvL"
      },
      "execution_count": null,
      "outputs": []
    },
    {
      "cell_type": "code",
      "source": [
        "assembler = VectorAssembler(inputCols=[ 'Weight', 'Length1', 'Length2', 'Length3', 'Height', 'Width'], outputCol = \"Features\")"
      ],
      "metadata": {
        "id": "u6b-Rp_yTt0U"
      },
      "execution_count": null,
      "outputs": []
    },
    {
      "cell_type": "code",
      "source": [
        "assembler"
      ],
      "metadata": {
        "colab": {
          "base_uri": "https://localhost:8080/"
        },
        "id": "rGU_2oahUG57",
        "outputId": "c6d4d8a0-97da-479f-8d63-59c7aec55722"
      },
      "execution_count": null,
      "outputs": [
        {
          "output_type": "execute_result",
          "data": {
            "text/plain": [
              "VectorAssembler_bf0f32c5ac45"
            ]
          },
          "metadata": {},
          "execution_count": 27
        }
      ]
    },
    {
      "cell_type": "code",
      "source": [
        "output = assembler.transform(indexed)"
      ],
      "metadata": {
        "id": "_THnnrhqUKOS"
      },
      "execution_count": null,
      "outputs": []
    },
    {
      "cell_type": "code",
      "source": [
        "output.show(truncate = False)"
      ],
      "metadata": {
        "colab": {
          "base_uri": "https://localhost:8080/"
        },
        "id": "GQpx7hg1VTsK",
        "outputId": "ff831f3b-264a-4369-e909-a7d1ec556afa"
      },
      "execution_count": null,
      "outputs": [
        {
          "output_type": "stream",
          "name": "stdout",
          "text": [
            "+-------+------+-------+-------+-------+-------+------+-----------+-------------------------------------+\n",
            "|Species|Weight|Length1|Length2|Length3|Height |Width |Species_cat|Features                             |\n",
            "+-------+------+-------+-------+-------+-------+------+-----------+-------------------------------------+\n",
            "|Bream  |242.0 |23.2   |25.4   |30.0   |11.52  |4.02  |1.0        |[242.0,23.2,25.4,30.0,11.52,4.02]    |\n",
            "|Bream  |290.0 |24.0   |26.3   |31.2   |12.48  |4.3056|1.0        |[290.0,24.0,26.3,31.2,12.48,4.3056]  |\n",
            "|Bream  |340.0 |23.9   |26.5   |31.1   |12.3778|4.6961|1.0        |[340.0,23.9,26.5,31.1,12.3778,4.6961]|\n",
            "|Bream  |363.0 |26.3   |29.0   |33.5   |12.73  |4.4555|1.0        |[363.0,26.3,29.0,33.5,12.73,4.4555]  |\n",
            "|Bream  |430.0 |26.5   |29.0   |34.0   |12.444 |5.134 |1.0        |[430.0,26.5,29.0,34.0,12.444,5.134]  |\n",
            "|Bream  |450.0 |26.8   |29.7   |34.7   |13.6024|4.9274|1.0        |[450.0,26.8,29.7,34.7,13.6024,4.9274]|\n",
            "|Bream  |500.0 |26.8   |29.7   |34.5   |14.1795|5.2785|1.0        |[500.0,26.8,29.7,34.5,14.1795,5.2785]|\n",
            "|Bream  |390.0 |27.6   |30.0   |35.0   |12.67  |4.69  |1.0        |[390.0,27.6,30.0,35.0,12.67,4.69]    |\n",
            "|Bream  |450.0 |27.6   |30.0   |35.1   |14.0049|4.8438|1.0        |[450.0,27.6,30.0,35.1,14.0049,4.8438]|\n",
            "|Bream  |500.0 |28.5   |30.7   |36.2   |14.2266|4.9594|1.0        |[500.0,28.5,30.7,36.2,14.2266,4.9594]|\n",
            "|Bream  |475.0 |28.4   |31.0   |36.2   |14.2628|5.1042|1.0        |[475.0,28.4,31.0,36.2,14.2628,5.1042]|\n",
            "|Bream  |500.0 |28.7   |31.0   |36.2   |14.3714|4.8146|1.0        |[500.0,28.7,31.0,36.2,14.3714,4.8146]|\n",
            "|Bream  |500.0 |29.1   |31.5   |36.4   |13.7592|4.368 |1.0        |[500.0,29.1,31.5,36.4,13.7592,4.368] |\n",
            "|Bream  |340.0 |29.5   |32.0   |37.3   |13.9129|5.0728|1.0        |[340.0,29.5,32.0,37.3,13.9129,5.0728]|\n",
            "|Bream  |600.0 |29.4   |32.0   |37.2   |14.9544|5.1708|1.0        |[600.0,29.4,32.0,37.2,14.9544,5.1708]|\n",
            "|Bream  |600.0 |29.4   |32.0   |37.2   |15.438 |5.58  |1.0        |[600.0,29.4,32.0,37.2,15.438,5.58]   |\n",
            "|Bream  |700.0 |30.4   |33.0   |38.3   |14.8604|5.2854|1.0        |[700.0,30.4,33.0,38.3,14.8604,5.2854]|\n",
            "|Bream  |700.0 |30.4   |33.0   |38.5   |14.938 |5.1975|1.0        |[700.0,30.4,33.0,38.5,14.938,5.1975] |\n",
            "|Bream  |610.0 |30.9   |33.5   |38.6   |15.633 |5.1338|1.0        |[610.0,30.9,33.5,38.6,15.633,5.1338] |\n",
            "|Bream  |650.0 |31.0   |33.5   |38.7   |14.4738|5.7276|1.0        |[650.0,31.0,33.5,38.7,14.4738,5.7276]|\n",
            "+-------+------+-------+-------+-------+-------+------+-----------+-------------------------------------+\n",
            "only showing top 20 rows\n",
            "\n"
          ]
        }
      ]
    },
    {
      "cell_type": "code",
      "source": [
        "output.select(\"features\",\"Species_cat\").show(truncate = False)"
      ],
      "metadata": {
        "colab": {
          "base_uri": "https://localhost:8080/"
        },
        "id": "O9vjfUufVW9S",
        "outputId": "f4431995-e016-4d22-f263-0056c6f78423"
      },
      "execution_count": null,
      "outputs": [
        {
          "output_type": "stream",
          "name": "stdout",
          "text": [
            "+-------------------------------------+-----------+\n",
            "|features                             |Species_cat|\n",
            "+-------------------------------------+-----------+\n",
            "|[242.0,23.2,25.4,30.0,11.52,4.02]    |1.0        |\n",
            "|[290.0,24.0,26.3,31.2,12.48,4.3056]  |1.0        |\n",
            "|[340.0,23.9,26.5,31.1,12.3778,4.6961]|1.0        |\n",
            "|[363.0,26.3,29.0,33.5,12.73,4.4555]  |1.0        |\n",
            "|[430.0,26.5,29.0,34.0,12.444,5.134]  |1.0        |\n",
            "|[450.0,26.8,29.7,34.7,13.6024,4.9274]|1.0        |\n",
            "|[500.0,26.8,29.7,34.5,14.1795,5.2785]|1.0        |\n",
            "|[390.0,27.6,30.0,35.0,12.67,4.69]    |1.0        |\n",
            "|[450.0,27.6,30.0,35.1,14.0049,4.8438]|1.0        |\n",
            "|[500.0,28.5,30.7,36.2,14.2266,4.9594]|1.0        |\n",
            "|[475.0,28.4,31.0,36.2,14.2628,5.1042]|1.0        |\n",
            "|[500.0,28.7,31.0,36.2,14.3714,4.8146]|1.0        |\n",
            "|[500.0,29.1,31.5,36.4,13.7592,4.368] |1.0        |\n",
            "|[340.0,29.5,32.0,37.3,13.9129,5.0728]|1.0        |\n",
            "|[600.0,29.4,32.0,37.2,14.9544,5.1708]|1.0        |\n",
            "|[600.0,29.4,32.0,37.2,15.438,5.58]   |1.0        |\n",
            "|[700.0,30.4,33.0,38.3,14.8604,5.2854]|1.0        |\n",
            "|[700.0,30.4,33.0,38.5,14.938,5.1975] |1.0        |\n",
            "|[610.0,30.9,33.5,38.6,15.633,5.1338] |1.0        |\n",
            "|[650.0,31.0,33.5,38.7,14.4738,5.7276]|1.0        |\n",
            "+-------------------------------------+-----------+\n",
            "only showing top 20 rows\n",
            "\n"
          ]
        }
      ]
    },
    {
      "cell_type": "code",
      "source": [
        "final_data = output.select(\"features\",\"Species_cat\")"
      ],
      "metadata": {
        "id": "_UYQj1JqVioi"
      },
      "execution_count": null,
      "outputs": []
    },
    {
      "cell_type": "code",
      "source": [
        "final_data.show()"
      ],
      "metadata": {
        "colab": {
          "base_uri": "https://localhost:8080/"
        },
        "id": "VCRi7k5RVnnr",
        "outputId": "3704b3ac-c158-4447-e7e4-7a1fe3eab250"
      },
      "execution_count": null,
      "outputs": [
        {
          "output_type": "stream",
          "name": "stdout",
          "text": [
            "+--------------------+-----------+\n",
            "|            features|Species_cat|\n",
            "+--------------------+-----------+\n",
            "|[242.0,23.2,25.4,...|        1.0|\n",
            "|[290.0,24.0,26.3,...|        1.0|\n",
            "|[340.0,23.9,26.5,...|        1.0|\n",
            "|[363.0,26.3,29.0,...|        1.0|\n",
            "|[430.0,26.5,29.0,...|        1.0|\n",
            "|[450.0,26.8,29.7,...|        1.0|\n",
            "|[500.0,26.8,29.7,...|        1.0|\n",
            "|[390.0,27.6,30.0,...|        1.0|\n",
            "|[450.0,27.6,30.0,...|        1.0|\n",
            "|[500.0,28.5,30.7,...|        1.0|\n",
            "|[475.0,28.4,31.0,...|        1.0|\n",
            "|[500.0,28.7,31.0,...|        1.0|\n",
            "|[500.0,29.1,31.5,...|        1.0|\n",
            "|[340.0,29.5,32.0,...|        1.0|\n",
            "|[600.0,29.4,32.0,...|        1.0|\n",
            "|[600.0,29.4,32.0,...|        1.0|\n",
            "|[700.0,30.4,33.0,...|        1.0|\n",
            "|[700.0,30.4,33.0,...|        1.0|\n",
            "|[610.0,30.9,33.5,...|        1.0|\n",
            "|[650.0,31.0,33.5,...|        1.0|\n",
            "+--------------------+-----------+\n",
            "only showing top 20 rows\n",
            "\n"
          ]
        }
      ]
    },
    {
      "cell_type": "code",
      "source": [
        "train_data, test_data = final_data.randomSplit([0.7,0.3])"
      ],
      "metadata": {
        "id": "mLHShxV5VBjS"
      },
      "execution_count": null,
      "outputs": []
    },
    {
      "cell_type": "code",
      "source": [
        "train_data.show()"
      ],
      "metadata": {
        "colab": {
          "base_uri": "https://localhost:8080/"
        },
        "id": "q7omQ2f-UNG6",
        "outputId": "8e61764b-e435-46df-b38c-bdacfdbf5d5e"
      },
      "execution_count": null,
      "outputs": [
        {
          "output_type": "stream",
          "name": "stdout",
          "text": [
            "+--------------------+-----------+\n",
            "|            features|Species_cat|\n",
            "+--------------------+-----------+\n",
            "|[0.0,19.0,20.5,22...|        2.0|\n",
            "|[5.9,7.5,8.4,8.8,...|        0.0|\n",
            "|[6.7,9.3,9.8,10.8...|        4.0|\n",
            "|[7.0,10.1,10.6,11...|        4.0|\n",
            "|[7.5,10.0,10.5,11...|        4.0|\n",
            "|[8.7,10.8,11.3,12...|        4.0|\n",
            "|[9.7,10.4,11.0,12...|        4.0|\n",
            "|[9.8,10.7,11.2,12...|        4.0|\n",
            "|[9.8,11.4,12.0,13...|        4.0|\n",
            "|[10.0,11.3,11.8,1...|        4.0|\n",
            "|[12.2,12.1,13.0,1...|        4.0|\n",
            "|[13.4,11.7,12.4,1...|        4.0|\n",
            "|[19.7,13.2,14.3,1...|        4.0|\n",
            "|[32.0,12.5,13.7,1...|        0.0|\n",
            "|[40.0,13.8,15.0,1...|        0.0|\n",
            "|[55.0,13.5,14.7,1...|        5.0|\n",
            "|[69.0,16.5,18.2,2...|        2.0|\n",
            "|[70.0,15.7,17.4,1...|        0.0|\n",
            "|[78.0,17.5,18.8,2...|        2.0|\n",
            "|[80.0,17.2,19.0,2...|        0.0|\n",
            "+--------------------+-----------+\n",
            "only showing top 20 rows\n",
            "\n"
          ]
        }
      ]
    },
    {
      "cell_type": "code",
      "source": [
        "test_data.show()"
      ],
      "metadata": {
        "colab": {
          "base_uri": "https://localhost:8080/"
        },
        "id": "mUge-fQRV2xb",
        "outputId": "787ff863-fec4-4344-8485-9e785aeb7c0e"
      },
      "execution_count": null,
      "outputs": [
        {
          "output_type": "stream",
          "name": "stdout",
          "text": [
            "+--------------------+-----------+\n",
            "|            features|Species_cat|\n",
            "+--------------------+-----------+\n",
            "|[9.9,11.3,11.8,13...|        4.0|\n",
            "|[12.2,11.5,12.2,1...|        4.0|\n",
            "|[19.9,13.8,15.0,1...|        4.0|\n",
            "|[40.0,12.9,14.1,1...|        2.0|\n",
            "|[51.5,15.0,16.2,1...|        0.0|\n",
            "|[60.0,14.3,15.5,1...|        5.0|\n",
            "|[78.0,16.8,18.7,1...|        0.0|\n",
            "|[85.0,17.8,19.6,2...|        0.0|\n",
            "|[110.0,20.0,22.0,...|        0.0|\n",
            "|[130.0,20.0,22.0,...|        0.0|\n",
            "|[135.0,20.0,22.0,...|        0.0|\n",
            "|[145.0,20.5,22.0,...|        2.0|\n",
            "|[150.0,18.4,20.0,...|        5.0|\n",
            "|[150.0,20.4,22.0,...|        2.0|\n",
            "|[150.0,21.0,23.0,...|        0.0|\n",
            "|[170.0,21.5,23.5,...|        0.0|\n",
            "|[242.0,23.2,25.4,...|        1.0|\n",
            "|[260.0,25.4,27.5,...|        0.0|\n",
            "|[265.0,25.4,27.5,...|        0.0|\n",
            "|[270.0,24.1,26.5,...|        6.0|\n",
            "+--------------------+-----------+\n",
            "only showing top 20 rows\n",
            "\n"
          ]
        }
      ]
    },
    {
      "cell_type": "code",
      "source": [
        "from pyspark.ml.classification import DecisionTreeClassifier\n",
        "from pyspark.ml.evaluation import MulticlassClassificationEvaluator"
      ],
      "metadata": {
        "id": "JKqQtKdjV8BS"
      },
      "execution_count": null,
      "outputs": []
    },
    {
      "cell_type": "code",
      "source": [
        "df_classifier = DecisionTreeClassifier(labelCol = \"Species_cat\").fit(train_data)"
      ],
      "metadata": {
        "id": "gjXYIwAhV-ni"
      },
      "execution_count": null,
      "outputs": []
    },
    {
      "cell_type": "code",
      "source": [
        "df_predictions = df_classifier.transform(test_data)"
      ],
      "metadata": {
        "id": "bQzufteZWFEC"
      },
      "execution_count": null,
      "outputs": []
    },
    {
      "cell_type": "code",
      "source": [
        "df_predictions.show()"
      ],
      "metadata": {
        "colab": {
          "base_uri": "https://localhost:8080/"
        },
        "id": "9ZW0HwjcWhJ7",
        "outputId": "1eab04db-6e0c-41e4-d09f-d35f99309056"
      },
      "execution_count": null,
      "outputs": [
        {
          "output_type": "stream",
          "name": "stdout",
          "text": [
            "+--------------------+-----------+--------------------+--------------------+----------+\n",
            "|            features|Species_cat|       rawPrediction|         probability|prediction|\n",
            "+--------------------+-----------+--------------------+--------------------+----------+\n",
            "|[9.9,11.3,11.8,13...|        4.0|[0.0,0.0,0.0,0.0,...|[0.0,0.0,0.0,0.0,...|       4.0|\n",
            "|[12.2,11.5,12.2,1...|        4.0|[0.0,0.0,0.0,0.0,...|[0.0,0.0,0.0,0.0,...|       4.0|\n",
            "|[19.9,13.8,15.0,1...|        4.0|[0.0,0.0,0.0,0.0,...|[0.0,0.0,0.0,0.0,...|       4.0|\n",
            "|[40.0,12.9,14.1,1...|        2.0|[25.0,0.0,14.0,4....|[0.55555555555555...|       0.0|\n",
            "|[51.5,15.0,16.2,1...|        0.0|[25.0,0.0,14.0,4....|[0.55555555555555...|       0.0|\n",
            "|[60.0,14.3,15.5,1...|        5.0|[25.0,0.0,14.0,4....|[0.55555555555555...|       0.0|\n",
            "|[78.0,16.8,18.7,1...|        0.0|[25.0,0.0,14.0,4....|[0.55555555555555...|       0.0|\n",
            "|[85.0,17.8,19.6,2...|        0.0|[25.0,0.0,14.0,4....|[0.55555555555555...|       0.0|\n",
            "|[110.0,20.0,22.0,...|        0.0|[25.0,0.0,14.0,4....|[0.55555555555555...|       0.0|\n",
            "|[130.0,20.0,22.0,...|        0.0|[25.0,0.0,14.0,4....|[0.55555555555555...|       0.0|\n",
            "|[135.0,20.0,22.0,...|        0.0|[25.0,0.0,14.0,4....|[0.55555555555555...|       0.0|\n",
            "|[145.0,20.5,22.0,...|        2.0|[25.0,0.0,14.0,4....|[0.55555555555555...|       0.0|\n",
            "|[150.0,18.4,20.0,...|        5.0|[1.0,3.0,3.0,0.0,...|[0.06666666666666...|       5.0|\n",
            "|[150.0,20.4,22.0,...|        2.0|[25.0,0.0,14.0,4....|[0.55555555555555...|       0.0|\n",
            "|[150.0,21.0,23.0,...|        0.0|[25.0,0.0,14.0,4....|[0.55555555555555...|       0.0|\n",
            "|[170.0,21.5,23.5,...|        0.0|[25.0,0.0,14.0,4....|[0.55555555555555...|       0.0|\n",
            "|[242.0,23.2,25.4,...|        1.0|[1.0,3.0,3.0,0.0,...|[0.06666666666666...|       5.0|\n",
            "|[260.0,25.4,27.5,...|        0.0|[25.0,0.0,14.0,4....|[0.55555555555555...|       0.0|\n",
            "|[265.0,25.4,27.5,...|        0.0|[25.0,0.0,14.0,4....|[0.55555555555555...|       0.0|\n",
            "|[270.0,24.1,26.5,...|        6.0|[1.0,3.0,3.0,0.0,...|[0.06666666666666...|       5.0|\n",
            "+--------------------+-----------+--------------------+--------------------+----------+\n",
            "only showing top 20 rows\n",
            "\n"
          ]
        }
      ]
    },
    {
      "cell_type": "code",
      "source": [
        "df_accuracy = MulticlassClassificationEvaluator(labelCol= \"Species_cat\",\n",
        "                                                metricName=\"accuracy\").evaluate(df_predictions)"
      ],
      "metadata": {
        "id": "WXHc7g_2Wiky"
      },
      "execution_count": null,
      "outputs": []
    },
    {
      "cell_type": "code",
      "source": [
        "df_accuracy"
      ],
      "metadata": {
        "colab": {
          "base_uri": "https://localhost:8080/"
        },
        "id": "6-HvNF3PWrsr",
        "outputId": "07a3d88b-6a70-4656-acb3-9d04eea1a4f0"
      },
      "execution_count": null,
      "outputs": [
        {
          "output_type": "execute_result",
          "data": {
            "text/plain": [
              "0.7058823529411765"
            ]
          },
          "metadata": {},
          "execution_count": 41
        }
      ]
    }
  ]
}